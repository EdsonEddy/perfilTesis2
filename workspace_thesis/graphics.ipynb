{
 "cells": [
  {
   "cell_type": "code",
   "execution_count": 1,
   "id": "1a2ea389",
   "metadata": {},
   "outputs": [],
   "source": [
    "import seaborn as sns\n",
    "import matplotlib.pyplot as plt\n",
    "import pandas as pd\n",
    "import numpy as np\n",
    "import os"
   ]
  },
  {
   "cell_type": "code",
   "execution_count": 2,
   "id": "581d21e5",
   "metadata": {},
   "outputs": [
    {
     "data": {
      "text/plain": [
       "<Figure size 432x288 with 0 Axes>"
      ]
     },
     "metadata": {},
     "output_type": "display_data"
    }
   ],
   "source": [
    "target_path = \"C:\\\\Users\\\\ACCESO\\\\Desktop\\\\experiments_file\\\\images\\\\\"\n",
    "source_path = \"C:\\\\Users\\\\ACCESO\\\\Desktop\\\\experiments_file\\\\results\"\n",
    "dirs = os.listdir(source_path)\n",
    "for file in dirs:\n",
    "    \n",
    "    if not \".csv\" in file:\n",
    "        continue\n",
    "    \n",
    "    path = source_path + \"\\\\\" + file\n",
    "    \n",
    "    data = np.loadtxt(path, delimiter=',')\n",
    "    n = [_ for _ in range(1, len(data) + 1)]\n",
    "    df = pd.DataFrame(data, columns = n, index = n)\n",
    "\n",
    "    p1 = sns.heatmap(df, cmap=\"Greys\", cbar=False)\n",
    "    p1.set(xticklabels=[], yticklabels=[])\n",
    "    p1.set(xlabel=None, ylabel=None)\n",
    "    p1.tick_params(bottom=False, left=False)\n",
    "    \n",
    "    values = file.split(\"_\")\n",
    "    if values[1] == \"SCED\":\n",
    "        xlabel = values[0] + \" SCAM d=\" + values[3] + \" \"\n",
    "    elif values[1] == \"WIN\":\n",
    "        xlabel = values[0] + \" WINNOWING window=\" + values[3] + \" kgrams=\" + values[5] + \" \"\n",
    "    elif values[1] == \"RKRGST\":\n",
    "        xlabel = values[0] + \" RKR-GST threshold=\" + values[3] + \" \"\n",
    "    \n",
    "    #p1.set_xlabel(xlabel, fontsize=10)\n",
    "    plt.savefig(target_path + \"MAP_\" + file.replace(\".csv\", \".png\"), dpi=300)\n",
    "    \n",
    "    plt.figure().clear\n",
    "    plt.close()\n",
    "    plt.cla()\n",
    "    plt.clf()\n"
   ]
  },
  {
   "cell_type": "code",
   "execution_count": 4,
   "id": "c2373b05",
   "metadata": {},
   "outputs": [
    {
     "data": {
      "text/plain": [
       "<Figure size 432x288 with 0 Axes>"
      ]
     },
     "metadata": {},
     "output_type": "display_data"
    }
   ],
   "source": [
    "target_path = \"C:\\\\Users\\\\ACCESO\\\\Desktop\\\\experiments_file\\\\images\\\\mix\\\\\"\n",
    "source_path = \"C:\\\\Users\\\\ACCESO\\\\Desktop\\\\experiments_file\\\\results\\\\mix_rkrgst_win\"\n",
    "dirs = os.listdir(source_path)\n",
    "for file in dirs:\n",
    "    \n",
    "    if not \".csv\" in file:\n",
    "        continue\n",
    "    \n",
    "    path = source_path + \"\\\\\" + file\n",
    "    \n",
    "    data = np.loadtxt(path, delimiter=',')\n",
    "    n = [_ for _ in range(1, len(data) + 1)]\n",
    "    df = pd.DataFrame(data, columns = n, index = n)\n",
    "\n",
    "    p1 = sns.heatmap(df, cmap=\"Greys\", cbar=False)\n",
    "    p1.set(xticklabels=[], yticklabels=[])\n",
    "    p1.set(xlabel=None, ylabel=None)\n",
    "    p1.tick_params(bottom=False, left=False)\n",
    "    \n",
    "    values = file.split(\"_\")\n",
    "    if values[1] == \"SCED\":\n",
    "        xlabel = values[0] + \" SCAM d=\" + values[3] + \" \"\n",
    "    elif values[1] == \"WIN\":\n",
    "        xlabel = values[0] + \" WINNOWING window=\" + values[3] + \" kgrams=\" + values[5] + \" \"\n",
    "    elif values[1] == \"RKRGST\":\n",
    "        xlabel = values[0] + \" RKR-GST threshold=\" + values[3] + \" \"\n",
    "    \n",
    "    #p1.set_xlabel(xlabel, fontsize=10)\n",
    "    plt.savefig(target_path + \"MAP_\" + file.replace(\".csv\", \".png\"), dpi=300)\n",
    "    \n",
    "    plt.figure().clear\n",
    "    plt.close()\n",
    "    plt.cla()\n",
    "    plt.clf()\n"
   ]
  },
  {
   "cell_type": "code",
   "execution_count": null,
   "id": "88bbc9d3",
   "metadata": {},
   "outputs": [],
   "source": []
  }
 ],
 "metadata": {
  "kernelspec": {
   "display_name": "Python 3 (ipykernel)",
   "language": "python",
   "name": "python3"
  },
  "language_info": {
   "codemirror_mode": {
    "name": "ipython",
    "version": 3
   },
   "file_extension": ".py",
   "mimetype": "text/x-python",
   "name": "python",
   "nbconvert_exporter": "python",
   "pygments_lexer": "ipython3",
   "version": "3.9.7"
  }
 },
 "nbformat": 4,
 "nbformat_minor": 5
}
